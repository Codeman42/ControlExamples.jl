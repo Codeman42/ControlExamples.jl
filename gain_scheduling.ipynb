{
 "cells": [
  {
   "cell_type": "markdown",
   "metadata": {},
   "source": [
    "# Gain scheduling and Auto tuning\n",
    "In this notebook the topic of gain scheduling is studied.\n",
    "## Preparation\n",
    "Study the relevant chapters in\n",
    "- \"Predictive and Adaptive Control\" R. Johansson \n",
    "- Chapter 9 \"Adaptive Control\" K.J. Åström\n",
    "- [Slides from control system synthesis](http://www.control.lth.se/media/Education/DoctorateProgram/2016/Control%20System%20Synthesis/gainscheduling.pdf)\n",
    "\n",
    "## The processes\n",
    "The processes studied in this session are third order systems with two poles in $s=-0.5$ and one pole in -2.\n",
    "$$P(s) = \\dfrac{1}{(2s+1)^2(0.5s+1)}$$\n",
    "with or without input nonlinearity.\n",
    "\n",
    "## Installation\n",
    "- First of all, you need Julia installed, see https://julialang.org/downloads/\n",
    "- You also need [IJulia](https://github.com/JuliaLang/IJulia.jl#installation), which in turn requires Jupyter.\n",
    "- Once Julia is up and running, the following julia code only has to be run once, it installs the relevant packages."
   ]
  },
  {
   "cell_type": "markdown",
   "metadata": {},
   "source": [
    "The code below must be run once every time the kernel is restarted"
   ]
  },
  {
   "cell_type": "code",
   "execution_count": null,
   "metadata": {},
   "outputs": [],
   "source": [
    "using ControlSystems, OrdinaryDiffEq, Plots, Interact, Pkg, LinearAlgebra, Statistics\n",
    "gr(show=false, size=(800,400)) # Set defaults for plotting"
   ]
  },
  {
   "cell_type": "markdown",
   "metadata": {},
   "source": [
    "We now proceed to define the process model and some parameters for our simulation"
   ]
  },
  {
   "cell_type": "code",
   "execution_count": null,
   "metadata": {},
   "outputs": [],
   "source": [
    "P              = tf(1,[2.,1])^2*tf(1,[0.5,1])  # Process model\n",
    "h              = 0.1             # Sample time (only used for plots)\n",
    "Ps             = ss(P)           # State-space representation of process model\n",
    "reference(x,t) = 1.;             # Reference generator (step function)"
   ]
  },
  {
   "cell_type": "markdown",
   "metadata": {},
   "source": [
    "Next we define a simulation object and simulate the system with a P-controller.\n",
    "- Change the value of the gain $K$ using the slider and try to get a feeling for how the system behaves."
   ]
  },
  {
   "cell_type": "code",
   "execution_count": null,
   "metadata": {},
   "outputs": [],
   "source": [
    "s      = Simulator(Ps)\n",
    "x0     = [0.,0,0] # Initial state\n",
    "Tf     = 20              # Length of experiments (seconds)\n",
    "t      = 0:h:Tf          # Time vector\n",
    "tspan  = (0.0,Tf)"
   ]
  },
  {
   "cell_type": "code",
   "execution_count": null,
   "metadata": {},
   "outputs": [],
   "source": [
    "@manipulate for K = LinRange(0,20,50)\n",
    "    global os, sol1\n",
    "    controller(x,t) = K*(reference(x,t) .- Ps.C*x)\n",
    "    os     = Simulator(Ps,controller)\n",
    "    sol1   = solve(os, x0, tspan, Tsit5()) # Simulate the system\n",
    "    plot(t, os.y(sol1, t)[:], lab=\"P controller\")\n",
    "    plot!([tspan...], [1,1], lab=\"Reference\", l=:dash, c=:black, ylims=(0,1.5))\n",
    "end"
   ]
  },
  {
   "cell_type": "markdown",
   "metadata": {},
   "source": [
    "- As you may notice, the stationary error never vanishes. How can one obtain zero stationary error for a fixed reference value while keeping a P controller?\n",
    "- Modify the function `controller` to get a smaller stationary error.\n",
    "\n",
    "Let's step up the game and control the system with a PID controller. Use [Ziegler–Nichols frequency method](https://en.wikipedia.org/wiki/Ziegler%E2%80%93Nichols_method) to tune a PID controller for the system. \n",
    "You can use the code above to find the critical gain. You can compare the result with a numerical root finding algorithm applied to the process model, see below\n",
    "- Compare the results with manual tuning."
   ]
  },
  {
   "cell_type": "code",
   "execution_count": null,
   "metadata": {},
   "outputs": [],
   "source": [
    "using Roots\n",
    "fzero(K->maximum(real.(pole(feedback(P,tf(K))))), 1, 20)"
   ]
  },
  {
   "cell_type": "markdown",
   "metadata": {},
   "source": [
    "Below we show the root locus of the system, what does the plot tell you?"
   ]
  },
  {
   "cell_type": "code",
   "execution_count": null,
   "metadata": {},
   "outputs": [],
   "source": [
    "rlocusplot(P); plot!([0,0],[-5,5],l=(:dash,:black),lab=\"\")"
   ]
  },
  {
   "cell_type": "code",
   "execution_count": null,
   "metadata": {},
   "outputs": [],
   "source": [
    "conditions  = [(x,y,r) -> true]\n",
    "Tf          = 20              # Length of experiments (seconds)\n",
    "t           = 0:h:Tf          # Time vector\n",
    "tspan       = (0.0,Tf)\n",
    "x0          = [0.,0,0]\n",
    "feedforward = [0]\n",
    "\n",
    "@manipulate for kp = LinRange(0,10,50),ki = LinRange(0,5,50),kd = LinRange(0,20,50)\n",
    "    controllers = [pid(kp=kp, ki=ki, kd=kd)]\n",
    "    global gs, sol1, sol2\n",
    "    gs    = GainSchedulingSimulator(Ps, reference, controllers, conditions, feedforward=feedforward)\n",
    "    sol2  = solve(gs, x0, tspan, Tsit5())\n",
    "    plot(t, os.y(sol1, t)[:], lab=\"P controller\")\n",
    "    plot!(t, gs.y(sol2, t)[:], lab=\"PID controller\")\n",
    "    plot!([tspan...], [1,1], lab=\"Reference\", l=(:dash, :black), ylims=(-0.1,1.5))\n",
    "end"
   ]
  },
  {
   "cell_type": "markdown",
   "metadata": {},
   "source": [
    "## Auto tuning\n",
    "Even with interactive tools, tuning a PID controller by hand can be difficult. A basic control course teaches us how to design a PID controller based on, e.g., pole placement. Here, we will formulate an optimization problem where we optimize a cost function $J(k_p,k_i,k_d)$ based on the step response of the closed-loop system\n",
    "$$J(k_p,k_i,k_d) \\quad=\\quad \\dfrac{1}{T_f}\\int_0^{T_f} |r(t)-y(t)| dt \\quad=\\quad \\dfrac{1}{T_f}\\int_0^{T_f} |e(t)|dt$$"
   ]
  },
  {
   "cell_type": "code",
   "execution_count": null,
   "metadata": {},
   "outputs": [],
   "source": [
    "Pkg.add(\"NLopt\") # Install NLopt if not already installed"
   ]
  },
  {
   "cell_type": "code",
   "execution_count": null,
   "metadata": {},
   "outputs": [],
   "source": [
    "using NLopt, ForwardDiff\n",
    "p              = [0.1, 0.1, 0.1] # Initial guess [kp, ki, kd]\n",
    "Kpid(kp,ki,kd) = pid(kp=kp, ki=ki, kd=kd)\n",
    "Kpid(p)        = K(p...)\n",
    "\n",
    "function timedomain(p)\n",
    "    C     = Kpid(p[1], p[2], p[3])\n",
    "    L     = feedback(P*C) |> ss\n",
    "    s     = Simulator(L, (x,t) -> [1]) # Sim. unit step load disturbance\n",
    "    ty    = eltype(p) # So that all inputs to solve have same numerical type (ForwardDiff.Dual)\n",
    "    x0    = zeros(L.nx) .|> ty\n",
    "    tspan = (ty(0.),ty(Tf))\n",
    "    sol   = solve(s, x0, tspan)\n",
    "    y     = L.C*sol(t) # y = C*x\n",
    "    y\n",
    "end\n",
    "\n",
    "function costfun(p)\n",
    "    y = timedomain(p)\n",
    "    mean(abs,1 .- y) # ~ Integrated absolute error IAE\n",
    "end\n",
    "\n",
    "f_cfg = ForwardDiff.GradientConfig(costfun, p)\n",
    "\n",
    "function f(p::Vector, grad::Vector)\n",
    "    if length(grad) > 0\n",
    "        grad .= ForwardDiff.gradient(costfun,p,f_cfg)\n",
    "    end\n",
    "    costfun(p)\n",
    "end\n",
    "\n",
    "function runopt(p; f_tol = 1e-5, x_tol = 1e-3)\n",
    "    opt = Opt(:LD_AUGLAG, 3)\n",
    "    lower_bounds!(opt, 1e-6ones(3))\n",
    "    xtol_rel!(opt, x_tol)\n",
    "    ftol_rel!(opt, f_tol)\n",
    "\n",
    "    min_objective!(opt, f)\n",
    "    NLopt.optimize(opt, p)[2]\n",
    "end\n",
    "\n",
    "@info \"Starting Optimization\"\n",
    "@time p = runopt(p, x_tol=1e-6)\n",
    "y = timedomain(p)\n",
    "plot(t,y')"
   ]
  },
  {
   "cell_type": "markdown",
   "metadata": {},
   "source": [
    "If we look at the sensitivity function of the closed-loop system obtained with the optimized controller, we see that the optimization procedure produced a quite aggressive controller with poor robustness. "
   ]
  },
  {
   "cell_type": "code",
   "execution_count": null,
   "metadata": {},
   "outputs": [],
   "source": [
    "C     = Kpid(p...)\n",
    "gangoffourplot(P,C, exp10.(LinRange(-1,3,500)), legend=false)"
   ]
  },
  {
   "cell_type": "markdown",
   "metadata": {},
   "source": [
    "To combat this, we can add bounds on the maximum value of the sensitivity functions:"
   ]
  },
  {
   "cell_type": "code",
   "execution_count": null,
   "metadata": {},
   "outputs": [],
   "source": [
    "Ω  = exp10.(LinRange(-1,2,150))\n",
    "p0 = [0.1,0.1,0.1]\n",
    "function freqdomain(p)\n",
    "    C     = Kpid(p[1], p[2], p[3])\n",
    "    S     = 1/(1+P*C) # Sensitivity fun\n",
    "    T     = tf(1.) - S# Comp. Sensitivity fun\n",
    "    Sw    = vec(bode(S,Ω)[1]) # Freq. domain constraints\n",
    "    Tw    = vec(bode(T,Ω)[1]) # Freq. domain constraints\n",
    "    Sw,Tw\n",
    "end\n",
    "Mt = 1.5\n",
    "@manipulate for Ms = LinRange(1.1,2,20)\n",
    "    global p0, p\n",
    "    p = p0\n",
    "    function constraintfun(p)\n",
    "        Sw,Tw = freqdomain(p)\n",
    "        [maximum(Sw)-Ms; maximum(Tw)-Mt]\n",
    "    end\n",
    "\n",
    "    g_cfg = ForwardDiff.JacobianConfig(constraintfun, p)\n",
    "\n",
    "    function c(result, p::Vector, grad)\n",
    "        if length(grad) > 0\n",
    "            grad .= ForwardDiff.jacobian(constraintfun,p,g_cfg)'\n",
    "        end\n",
    "        result .= constraintfun(p)\n",
    "    end\n",
    "\n",
    "    function runopt(p; f_tol = 1e-5, x_tol = 1e-3, c_tol = 1e-8)\n",
    "        opt = Opt(:LD_SLSQP, 3)\n",
    "        lower_bounds!(opt, 1e-6ones(3))\n",
    "        xtol_rel!(opt, x_tol)\n",
    "        ftol_rel!(opt, f_tol)\n",
    "\n",
    "        min_objective!(opt, f)\n",
    "        inequality_constraint!(opt, c, c_tol*ones(2))\n",
    "        NLopt.optimize(opt, p)[2]\n",
    "    end\n",
    "\n",
    "\n",
    "    p = runopt(p, x_tol=1e-6)\n",
    "    y = timedomain(p)\n",
    "    Sw,Tw = freqdomain(p)\n",
    "    plot(t,y', layout=2, show=false, ylims=(0,1.3))\n",
    "    plot!(Ω, [Sw Tw] , lab=[\"Sw\" \"Tw\"], subplot=2, xscale=:log10, yscale=:log10)\n",
    "    plot!([Ω[1],Ω[end]], [Ms,Ms], c = :black, l=:dash, subplot=2, lab=\"Ms\")\n",
    "    plot!([Ω[1],Ω[end]], [Mt,Mt], c = :purple, l=:dash, subplot=2, lab=\"Mt\", ylims=(0.01,3))\n",
    "end"
   ]
  },
  {
   "cell_type": "code",
   "execution_count": null,
   "metadata": {},
   "outputs": [],
   "source": [
    "C     = Kpid(p...)\n",
    "gangoffourplot(P,C, exp10.(LinRange(-1,3,500)), legend=false)"
   ]
  },
  {
   "cell_type": "markdown",
   "metadata": {},
   "source": [
    "- Does introduction of a penalty on the maximum sensitivity make the controller more robust?\n",
    "\n",
    "## Gain Scheduling \n",
    "\n",
    "We now introduce gain scheduling. The following code defines two controllers and a vector of conditions that determine when to switch between the controllers. The switching conditions are allowed to be arbitrary functions of the state $x$, the output $y$ or the reference $r$. The template below implements a schedule based on a simple threshold value on the output, $y=th$. Experiment with the controller parameters of the two controllers and the scheduling signal. Anser the following questions\n",
    "- Which signal is best for scheduling?\n",
    "- Can you implement a controller which is both faster and has better damping than your best controller from the previous task?"
   ]
  },
  {
   "cell_type": "code",
   "execution_count": null,
   "metadata": {},
   "outputs": [],
   "source": [
    "feedforward = Float64[0,0]\n",
    "@manipulate for kp1 = LinRange(0,20,50),ki1 = LinRange(0,5,50),kp2 = LinRange(0,20,50),ki2 = LinRange(0,5,50),kd  = LinRange(0,20,50),th  = LinRange(0,1,20)\n",
    "    global gs\n",
    "    plot(t, gs.y(sol2, t)[:], lab=\"PID controller\")\n",
    "\n",
    "    controllers  = [pid(kp=kp1, ki=ki1, kd=kd), pid(kp=kp2, ki=ki2, kd=kd)]\n",
    "    conditions   = [(x,y,r) -> y[1] < th, (x,y,r) -> y[1] >= th]\n",
    "    gs2          = GainSchedulingSimulator(Ps, reference, controllers, conditions, feedforward=feedforward)\n",
    "    sol3         = solve(gs2, x0, tspan, Tsit5())\n",
    "    plot!(t, gs2.y(sol3, t)[:], lab=\"Gain scheduled controller\", ylims=(0,1.5))\n",
    "    plot!([tspan...], [1,1], lab=\"Reference\", l=(:dash, :black))\n",
    "    plot!([tspan...], [th, th], lab=\"Threshold\", l=(:dash, :red), legend=:bottomright)\n",
    "end"
   ]
  },
  {
   "cell_type": "markdown",
   "metadata": {},
   "source": [
    "Okay, now it's time to make it a bit harder. We now add a nonlinearity to the process input. We can play around a bit with the type of the nonlinearity, but let's start with\n",
    "$$u = u_i^2 \\quad \\text{if}\\quad  u_i > 0$$\n",
    "$$u = 0.1u_i \\quad \\text{otherwise}$$\n",
    "depicted below."
   ]
  },
  {
   "cell_type": "code",
   "execution_count": null,
   "metadata": {},
   "outputs": [],
   "source": [
    "nonlinearity(u) = u < 0 ? 0.1u : u^2\n",
    "plot(LinRange(-1,1.5,200),nonlinearity,lab=\"Input nonlinearity\")"
   ]
  },
  {
   "cell_type": "markdown",
   "metadata": {},
   "source": [
    "Try tuning a P-controller for the system with the input nonlinearity. Is it possible to achieve an okay result?"
   ]
  },
  {
   "cell_type": "code",
   "execution_count": null,
   "metadata": {},
   "outputs": [],
   "source": [
    "Tf             = 75.\n",
    "tspan          = (0.,Tf)\n",
    "t              = 0:h:Tf\n",
    "x0             = [0,0,5/2]\n",
    "conditions     = [(x,y,r) -> true]\n",
    "reference(x,t) = t < Tf÷2 ? 0. : 1.\n",
    "feedforward    = Float64[0]\n",
    "@manipulate for kp = LinRange(0,10,50),ki = LinRange(0,8,50),kd = LinRange(0,20,50)\n",
    "    global controllers\n",
    "    controllers = [pid(kp=kp, ki=ki, kd=kd)]\n",
    "    global gs, sol2\n",
    "    gs    = GainSchedulingSimulator(Ps, reference, controllers, conditions,\n",
    "        inputfun=(u,t)->nonlinearity.(u), feedforward=feedforward)\n",
    "    sol2  = solve(gs, x0, tspan, Tsit5())\n",
    "    plot(t, gs.y(sol2, t)[:], lab=\"PID controller\")\n",
    "    plot!(t, reference.(0,t), lab=\"Reference\", l=:dash, c=:black, ylims=(-0.5,2.))\n",
    "end"
   ]
  },
  {
   "cell_type": "markdown",
   "metadata": {},
   "source": [
    "Once again, we try a controller with gain scheduling. The left plot displays the control signal of the two controllers."
   ]
  },
  {
   "cell_type": "code",
   "execution_count": null,
   "metadata": {},
   "outputs": [],
   "source": [
    "gs    = GainSchedulingSimulator(Ps, reference, controllers, conditions, inputfun=(u,t)->nonlinearity.(u) .+ disturbance(t,0))\n",
    "Tf    = 75.\n",
    "tspan = (0.,Tf)\n",
    "t     = 0:h:Tf\n",
    "feedforward = Float64[0,1]\n",
    "\n",
    "reference(x,t) = t < Tf÷3 ? 0. : 1.\n",
    "disturbance(x,t) = 0 # t < 2Tf÷3 ? 0. : -1.\n",
    "@manipulate for kp1 = LinRange(0,20,50),ki1 = LinRange(1e-5,8,50),kd1 = LinRange(1e-5,10,50),kp2 = LinRange(0,10,50),ki2 = LinRange(1e-5,8,50),kd2 = LinRange(1e-5,8,50),th  = LinRange(0,1,20)\n",
    "    \n",
    "    # kp1,ki1,kp2,ki2,th = 1,1,1,1,0.5\n",
    "    global sol3\n",
    "    sol2  = solve(gs, x0, tspan, Tsit5())\n",
    "    plot(t, gs.y(sol2, t)[:], lab=\"PID controller\", layout=2)\n",
    "\n",
    "    controllers  = ss.([pid(kp=kp1, ki=ki1, kd=kd1), pid(kp=kp2, ki=ki2, kd=kd2)])\n",
    "    conditions   = [(x,y,r) -> y[1] < th, (x,y,r) -> y[1] >= th]\n",
    "    gs2          = GainSchedulingSimulator(Ps, reference, controllers, conditions,\n",
    "                        inputfun=(u,t)->nonlinearity.(u) .+ disturbance(0,t), feedforward=feedforward)\n",
    "    sol3         = solve(gs2, x0, tspan, Tsit5(), reltol=1e-4, abstol=1e-4)\n",
    "\n",
    "    # Plotting\n",
    "    U  = hcat(sol3.u...)\n",
    "    x  = [[u[1],u[2],u[3]] for u in sol3.u]\n",
    "    u1 = controllers[1].C*U[3:4,:] + controllers[1].D.*hcat((gs2.e.(x, sol3.t))...)\n",
    "    u2 = controllers[2].C*U[5:6,:] + controllers[2].D.*hcat((gs2.e.(x, sol3.t))...)\n",
    "    plot!(t, gs2.y(sol3, t)[:], lab=\"Gain scheduled controller\", ylims=(-0.5,2), subplot=1)\n",
    "    plot!(t, reference.(0,t), lab=\"Reference\", l=:dash, c=:black, subplot=1)\n",
    "    plot!([tspan...], [th, th], lab=\"Threshold\", c=:red, l=:dash, subplot=1)\n",
    "    plot!([u1[:] u2[:]], lab=[\"u_1\" \"u_2\"], subplot=2)\n",
    "end"
   ]
  },
  {
   "cell_type": "markdown",
   "metadata": {},
   "source": [
    "- Can you manage to get a gain scheduled controller that is better than the simple PID controller?\n",
    "- Add feedforward if needed\n",
    "- Add an input disturbance by uncommenting \"# t < 2Tf÷3 ? 0. : -1.\". Does your scheduling still work as well?\n",
    "- Try setting $k_i$ and $k_d$ to zero to use two proportional controllers and play around with the threshold value. Can you manage to get the controller stuck in the middle of the step response?"
   ]
  },
  {
   "cell_type": "markdown",
   "metadata": {},
   "source": [
    "To get a better feeling for the practicalities of gain scheduling, you'll be asked to implement a simple gain scheduled controller with interpolation below. We consider the same process and nonlinearity as above, but this time we'll implement two P-controllers and an interpolation region.\n",
    "- Define two threshold values $t_1$ and $t_2$, between which you interpolate the value of the control signal requested by the two controllers.\n",
    "- Figure out the equations for linear interpolation between the thresholds, you have two candidate control signals $u_1,u_2$, what is the control signal to output in the following cases, where $p$ is the scheduling signal?\n",
    "    1. $p < t_1$\n",
    "    2. $t_1 \\leq p < t_2$\n",
    "    3. $p \\leq t_2$\n",
    "Add the interpolation logic to the controller below."
   ]
  },
  {
   "cell_type": "code",
   "execution_count": null,
   "metadata": {},
   "outputs": [],
   "source": [
    "Tf             = 50                 # Length of experiments (seconds)\n",
    "t              = 0:h:Tf             # Time vector\n",
    "reference(x,t) = t < Tf÷2 ? 0. : 1. # Reference generator (step function)\n",
    "s              = Simulator(Ps)\n",
    "x0             = [0.,0,5/2]         # Initial state\n",
    "tspan          = (0.0,Tf)\n",
    "\n",
    "@manipulate for K1 = LinRange(0,10,50), K2 = LinRange(0,5,50)\n",
    "\n",
    "    function controller(x,t)\n",
    "        y  = Ps.C*x # Form measurement signal\n",
    "        e  = reference(x,t) .- y\n",
    "        u1 = K1*e\n",
    "        u2 = K2*e\n",
    "        \n",
    "        u  = (u1+u2) / 2 # Implement the interpolation here! <-----------------------------\n",
    "\n",
    "        return u\n",
    "    end\n",
    "    \n",
    "    s    = Simulator(Ps,(u->nonlinearity.(u)) ∘ controller)\n",
    "    solg = solve(s, x0, tspan, Tsit5()) # Simulate the system\n",
    "    plot(t, s.y(solg, t)[:], lab=\"GS controller\", layout=2, subplot=1)\n",
    "    plot!(t, reference.(0,t), lab=\"Reference\", l=:dash, c=:black, ylims=(-0.5,1.5), subplot=1)\n",
    "    plot!(t, [controller(solg(t),t)[] for t ∈ t], title=\"u\", ylims=(-8,8), subplot=2)\n",
    "end"
   ]
  },
  {
   "cell_type": "markdown",
   "metadata": {},
   "source": [
    "You can add sliders for $t_1$ and $t_2$ to make experimentation faster.\n",
    "- Which signal is your preferred choice of scheduling signal?\n",
    "\n",
    "Tuning a gain schedule and the parameters of the scheduled controllers can become very tedious. Even more so it the process time constant is long and one does not have a simulator. A more systematic apporach is to linearize the system around two different operating points and design a well-damped controller for both linear systems. One then chooses a threshold somewhere between the operating points. One can alternatively use the autotuning approach to tune the controller based on several different responses, to bot reference changes and load disturbances."
   ]
  }
 ],
 "metadata": {
  "@webio": {
   "lastCommId": "4e2ce06a88734493836f7b81d152ee8a",
   "lastKernelId": "3b986e3e-6456-492f-a87e-9ede2b6c40ed"
  },
  "kernelspec": {
   "display_name": "Julia 1.0.3",
   "language": "julia",
   "name": "julia-1.0"
  },
  "language_info": {
   "file_extension": ".jl",
   "mimetype": "application/julia",
   "name": "julia",
   "version": "1.0.3"
  }
 },
 "nbformat": 4,
 "nbformat_minor": 2
}
